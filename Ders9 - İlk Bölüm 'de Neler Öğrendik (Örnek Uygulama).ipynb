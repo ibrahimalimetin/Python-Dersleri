{
 "cells": [
  {
   "cell_type": "code",
   "execution_count": 1,
   "metadata": {},
   "outputs": [
    {
     "name": "stdout",
     "output_type": "stream",
     "text": [
      "Öğrencinin Adını Giriniz: Ali\n",
      "Öğrencinin Soyad Bilgisini Giriniz: Metin\n",
      "Öğrencinin Numarasını Giriniz: 123\n",
      "['Ali', 'Metin', '123']\n"
     ]
    }
   ],
   "source": [
    "#Öğrenci Not Hesaplaması\n",
    "\n",
    "ad = input(\"Öğrencinin Adını Giriniz: \")\n",
    "soyad = input(\"Öğrencinin Soyad Bilgisini Giriniz: \")\n",
    "no = input(\"Öğrencinin Numarasını Giriniz: \")\n",
    "\n",
    "ogrenci = [ad, soyad, no]\n",
    "\n",
    "print(ogrenci)"
   ]
  },
  {
   "cell_type": "code",
   "execution_count": 2,
   "metadata": {},
   "outputs": [
    {
     "name": "stdout",
     "output_type": "stream",
     "text": [
      "Öğrencinin Adını Giriniz: Ali\n",
      "Öğrencinin Soyad Bilgisini Giriniz: Metin\n",
      "Öğrencinin Numarasını Giriniz: 1234\n",
      "Öğrencinin Adı: Ali\n",
      ", Öğrencinin Soyadı: Metin\n",
      ", Öğrencinin Numarası: 1234\n"
     ]
    }
   ],
   "source": [
    "ad = input(\"Öğrencinin Adını Giriniz: \")\n",
    "soyad = input(\"Öğrencinin Soyad Bilgisini Giriniz: \")\n",
    "no = input(\"Öğrencinin Numarasını Giriniz: \")\n",
    "\n",
    "ogrenci = [ad, soyad, no]\n",
    "print(\"Öğrencinin Adı: {}\\nÖğrencinin Soyadı: {}\\nÖğrencinin Numarası: {}\".format(ad,soyad,no))"
   ]
  },
  {
   "cell_type": "code",
   "execution_count": 3,
   "metadata": {},
   "outputs": [
    {
     "name": "stdout",
     "output_type": "stream",
     "text": [
      "Öğrencinin Adını Giriniz: Mehmet\n",
      "Öğrencinin Soyad Bilgisini Giriniz: Selam\n",
      "Öğrencinin Numarasını Giriniz: 555\n",
      "Öğrencinin Adı: Mehmet\n",
      "Öğrencinin Soyadı: Selam\n",
      "Öğrencinin Numarası: 555\n",
      "Öğrencinin vize notunu giriniz: 65.4\n",
      "Öğrencinin odev notunu giriniz: 70\n",
      "Öğrencinin final notunu giriniz: 68\n",
      "Not ortalamanı:  67.62\n"
     ]
    }
   ],
   "source": [
    "ad = input(\"Öğrencinin Adını Giriniz: \")\n",
    "soyad = input(\"Öğrencinin Soyad Bilgisini Giriniz: \")\n",
    "no = input(\"Öğrencinin Numarasını Giriniz: \")\n",
    "\n",
    "ogrenci = [ad, soyad, no]\n",
    "print(\"Öğrencinin Adı: {}\\nÖğrencinin Soyadı: {}\\nÖğrencinin Numarası: {}\".format(ad,soyad,no))\n",
    "\n",
    "vize1 = float(input(\"Öğrencinin vize notunu giriniz: \"))\n",
    "odev = int(input(\"Öğrencinin odev notunu giriniz: \"))\n",
    "final = int(input(\"Öğrencinin final notunu giriniz: \"))\n",
    "\n",
    "sonuc = vize1*0.3 + odev*0.2 + final*0.5\n",
    "\n",
    "print(\"Not ortalamanı: \", sonuc)"
   ]
  },
  {
   "cell_type": "code",
   "execution_count": null,
   "metadata": {},
   "outputs": [],
   "source": []
  }
 ],
 "metadata": {
  "kernelspec": {
   "display_name": "Python 3",
   "language": "python",
   "name": "python3"
  },
  "language_info": {
   "codemirror_mode": {
    "name": "ipython",
    "version": 3
   },
   "file_extension": ".py",
   "mimetype": "text/x-python",
   "name": "python",
   "nbconvert_exporter": "python",
   "pygments_lexer": "ipython3",
   "version": "3.7.5"
  }
 },
 "nbformat": 4,
 "nbformat_minor": 2
}
