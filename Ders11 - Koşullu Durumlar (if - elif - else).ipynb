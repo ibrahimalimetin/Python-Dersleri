{
 "cells": [
  {
   "cell_type": "code",
   "execution_count": 1,
   "metadata": {},
   "outputs": [
    {
     "name": "stdout",
     "output_type": "stream",
     "text": [
      "Bir sayı giriniz: 9\n",
      "Merhaba\n"
     ]
    }
   ],
   "source": [
    "sayi = int(input(\"Bir sayı giriniz: \"))\n",
    "\n",
    "if sayi < 10:    \n",
    "    print(\"Merhaba\")"
   ]
  },
  {
   "cell_type": "code",
   "execution_count": 2,
   "metadata": {},
   "outputs": [
    {
     "name": "stdout",
     "output_type": "stream",
     "text": [
      "Bir sayı giriniz: 11\n"
     ]
    }
   ],
   "source": [
    "sayi = int(input(\"Bir sayı giriniz: \"))\n",
    "\n",
    "if sayi < 10:    \n",
    "    print(\"Merhaba\")"
   ]
  },
  {
   "cell_type": "code",
   "execution_count": 3,
   "metadata": {},
   "outputs": [
    {
     "name": "stdout",
     "output_type": "stream",
     "text": [
      "Doğru\n"
     ]
    }
   ],
   "source": [
    "x = 88\n",
    "\n",
    "if x == 88:\n",
    "    print(\"Doğru\")"
   ]
  },
  {
   "cell_type": "code",
   "execution_count": 5,
   "metadata": {},
   "outputs": [
    {
     "name": "stdout",
     "output_type": "stream",
     "text": [
      "Öğrencinin vize notunu giriniz: 70\n",
      "Öğrencinin odev notunu giriniz: 100\n",
      "Öğrencinin final notunu giriniz: 80\n",
      "Not ortalamanı:  81.0\n",
      "İyi\n"
     ]
    }
   ],
   "source": [
    "vize1 = float(input(\"Öğrencinin vize notunu giriniz: \"))\n",
    "odev = int(input(\"Öğrencinin odev notunu giriniz: \"))\n",
    "final = int(input(\"Öğrencinin final notunu giriniz: \"))\n",
    "\n",
    "sonuc = vize1*0.3 + odev*0.2 + final*0.5\n",
    "\n",
    "print(\"Not ortalamanı: \", sonuc)\n",
    "\n",
    "if sonuc >= 85:\n",
    "    print(\"Çok iyi\")\n",
    "elif sonuc >= 70:\n",
    "    print(\"İyi\")\n",
    "elif sonuc >= 55:\n",
    "    print(\"Orta\")\n",
    "else:\n",
    "    print(\"Başarısız..\")\n",
    "\n"
   ]
  },
  {
   "cell_type": "code",
   "execution_count": 6,
   "metadata": {},
   "outputs": [
    {
     "ename": "SyntaxError",
     "evalue": "invalid syntax (<ipython-input-6-2451a43ef8b1>, line 15)",
     "output_type": "error",
     "traceback": [
      "\u001b[1;36m  File \u001b[1;32m\"<ipython-input-6-2451a43ef8b1>\"\u001b[1;36m, line \u001b[1;32m15\u001b[0m\n\u001b[1;33m    if:\u001b[0m\n\u001b[1;37m      ^\u001b[0m\n\u001b[1;31mSyntaxError\u001b[0m\u001b[1;31m:\u001b[0m invalid syntax\n"
     ]
    }
   ],
   "source": [
    "vize1 = float(input(\"Öğrencinin vize notunu giriniz: \"))\n",
    "odev = int(input(\"Öğrencinin odev notunu giriniz: \"))\n",
    "final = int(input(\"Öğrencinin final notunu giriniz: \"))\n",
    "\n",
    "sonuc = vize1*0.3 + odev*0.2 + final*0.5\n",
    "\n",
    "print(\"Not ortalamanı: \", sonuc)\n",
    "\n",
    "if sonuc >= 85:\n",
    "    print(\"Çok iyi\")\n",
    "if sonuc >= 70:\n",
    "    print(\"İyi\")\n",
    "if sonuc >= 55:\n",
    "    print(\"Orta\")\n"
   ]
  },
  {
   "cell_type": "code",
   "execution_count": 7,
   "metadata": {},
   "outputs": [
    {
     "name": "stdout",
     "output_type": "stream",
     "text": [
      "Öğrencinin vize notunu giriniz: 70\n",
      "Öğrencinin odev notunu giriniz: 100\n",
      "Öğrencinin final notunu giriniz: 80\n",
      "Not ortalamanı:  81.0\n",
      "İyi\n",
      "Orta\n"
     ]
    }
   ],
   "source": [
    "vize1 = float(input(\"Öğrencinin vize notunu giriniz: \"))\n",
    "odev = int(input(\"Öğrencinin odev notunu giriniz: \"))\n",
    "final = int(input(\"Öğrencinin final notunu giriniz: \"))\n",
    "\n",
    "sonuc = vize1*0.3 + odev*0.2 + final*0.5\n",
    "\n",
    "print(\"Not ortalamanı: \", sonuc)\n",
    "\n",
    "if sonuc >= 85:\n",
    "    print(\"Çok iyi\")\n",
    "if sonuc >= 70:\n",
    "    print(\"İyi\")\n",
    "if sonuc >= 55:\n",
    "    print(\"Orta\")"
   ]
  },
  {
   "cell_type": "code",
   "execution_count": 8,
   "metadata": {},
   "outputs": [
    {
     "name": "stdout",
     "output_type": "stream",
     "text": [
      "Öğrencinin vize notunu giriniz: 70\n",
      "Öğrencinin odev notunu giriniz: 80\n",
      "Öğrencinin final notunu giriniz: 100\n",
      "Not ortalamanı:  87.0\n",
      "Çok iyi\n"
     ]
    }
   ],
   "source": [
    "vize1 = float(input(\"Öğrencinin vize notunu giriniz: \"))\n",
    "odev = int(input(\"Öğrencinin odev notunu giriniz: \"))\n",
    "final = int(input(\"Öğrencinin final notunu giriniz: \"))\n",
    "\n",
    "sonuc = vize1*0.3 + odev*0.2 + final*0.5\n",
    "\n",
    "print(\"Not ortalamanı: \", sonuc)\n",
    "\n",
    "if sonuc >= 85:\n",
    "    print(\"Çok iyi\")\n",
    "elif sonuc >= 70:\n",
    "    print(\"İyi\")\n",
    "elif sonuc >= 55:\n",
    "    print(\"Orta\")"
   ]
  },
  {
   "cell_type": "code",
   "execution_count": 9,
   "metadata": {},
   "outputs": [
    {
     "name": "stdout",
     "output_type": "stream",
     "text": [
      "Öğrencinin vize notunu giriniz: 70\n",
      "Öğrencinin odev notunu giriniz: 100\n",
      "Öğrencinin final notunu giriniz: 80\n",
      "Not ortalamanı:  81.0\n",
      "İyi\n"
     ]
    }
   ],
   "source": [
    "vize1 = float(input(\"Öğrencinin vize notunu giriniz: \"))\n",
    "odev = int(input(\"Öğrencinin odev notunu giriniz: \"))\n",
    "final = int(input(\"Öğrencinin final notunu giriniz: \"))\n",
    "\n",
    "sonuc = vize1*0.3 + odev*0.2 + final*0.5\n",
    "\n",
    "print(\"Not ortalamanı: \", sonuc)\n",
    "\n",
    "if sonuc >= 85:\n",
    "    print(\"Çok iyi\")\n",
    "elif sonuc >= 70:\n",
    "    print(\"İyi\")\n",
    "elif sonuc >= 55:\n",
    "    print(\"Orta\")\n",
    "    "
   ]
  },
  {
   "cell_type": "code",
   "execution_count": 10,
   "metadata": {},
   "outputs": [
    {
     "ename": "SyntaxError",
     "evalue": "invalid syntax (<ipython-input-10-98d82026ca9a>, line 9)",
     "output_type": "error",
     "traceback": [
      "\u001b[1;36m  File \u001b[1;32m\"<ipython-input-10-98d82026ca9a>\"\u001b[1;36m, line \u001b[1;32m9\u001b[0m\n\u001b[1;33m    elif sonuc >= 85:\u001b[0m\n\u001b[1;37m       ^\u001b[0m\n\u001b[1;31mSyntaxError\u001b[0m\u001b[1;31m:\u001b[0m invalid syntax\n"
     ]
    }
   ],
   "source": [
    "vize1 = float(input(\"Öğrencinin vize notunu giriniz: \"))\n",
    "odev = int(input(\"Öğrencinin odev notunu giriniz: \"))\n",
    "final = int(input(\"Öğrencinin final notunu giriniz: \"))\n",
    "\n",
    "sonuc = vize1*0.3 + odev*0.2 + final*0.5\n",
    "\n",
    "print(\"Not ortalamanı: \", sonuc)\n",
    "\n",
    "elif sonuc >= 85:\n",
    "    print(\"Çok iyi\")\n",
    "elif sonuc >= 70:\n",
    "    print(\"İyi\")\n",
    "elif sonuc >= 55:\n",
    "    print(\"Orta\")"
   ]
  },
  {
   "cell_type": "code",
   "execution_count": 11,
   "metadata": {},
   "outputs": [
    {
     "ename": "SyntaxError",
     "evalue": "invalid syntax (<ipython-input-11-803b0d1bfabb>, line 9)",
     "output_type": "error",
     "traceback": [
      "\u001b[1;36m  File \u001b[1;32m\"<ipython-input-11-803b0d1bfabb>\"\u001b[1;36m, line \u001b[1;32m9\u001b[0m\n\u001b[1;33m    else:\u001b[0m\n\u001b[1;37m       ^\u001b[0m\n\u001b[1;31mSyntaxError\u001b[0m\u001b[1;31m:\u001b[0m invalid syntax\n"
     ]
    }
   ],
   "source": [
    "vize1 = float(input(\"Öğrencinin vize notunu giriniz: \"))\n",
    "odev = int(input(\"Öğrencinin odev notunu giriniz: \"))\n",
    "final = int(input(\"Öğrencinin final notunu giriniz: \"))\n",
    "\n",
    "sonuc = vize1*0.3 + odev*0.2 + final*0.5\n",
    "\n",
    "print(\"Not ortalamanı: \", sonuc)\n",
    "\n",
    "else:\n",
    "    print(\"Orta\")"
   ]
  },
  {
   "cell_type": "code",
   "execution_count": null,
   "metadata": {},
   "outputs": [],
   "source": []
  }
 ],
 "metadata": {
  "kernelspec": {
   "display_name": "Python 3",
   "language": "python",
   "name": "python3"
  },
  "language_info": {
   "codemirror_mode": {
    "name": "ipython",
    "version": 3
   },
   "file_extension": ".py",
   "mimetype": "text/x-python",
   "name": "python",
   "nbconvert_exporter": "python",
   "pygments_lexer": "ipython3",
   "version": "3.7.5"
  }
 },
 "nbformat": 4,
 "nbformat_minor": 2
}
