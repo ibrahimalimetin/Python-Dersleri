{
 "cells": [
  {
   "cell_type": "code",
   "execution_count": 1,
   "metadata": {},
   "outputs": [
    {
     "name": "stdout",
     "output_type": "stream",
     "text": [
      "5\n"
     ]
    },
    {
     "data": {
      "text/plain": [
       "'5'"
      ]
     },
     "execution_count": 1,
     "metadata": {},
     "output_type": "execute_result"
    }
   ],
   "source": [
    "input()"
   ]
  },
  {
   "cell_type": "code",
   "execution_count": 2,
   "metadata": {},
   "outputs": [
    {
     "name": "stdout",
     "output_type": "stream",
     "text": [
      "Adınız: Ali\n"
     ]
    },
    {
     "data": {
      "text/plain": [
       "'Ali'"
      ]
     },
     "execution_count": 2,
     "metadata": {},
     "output_type": "execute_result"
    }
   ],
   "source": [
    "input(\"Adınız: \")"
   ]
  },
  {
   "cell_type": "code",
   "execution_count": 3,
   "metadata": {},
   "outputs": [
    {
     "name": "stdout",
     "output_type": "stream",
     "text": [
      "Bir sayı gir: 5\n",
      "Girdiğiniz sayı:  5\n"
     ]
    }
   ],
   "source": [
    "x = input(\"Bir sayı gir: \")\n",
    "print(\"Girdiğiniz sayı: \", x)"
   ]
  },
  {
   "cell_type": "code",
   "execution_count": 4,
   "metadata": {},
   "outputs": [
    {
     "name": "stdout",
     "output_type": "stream",
     "text": [
      "Bir sayı gir: 5\n",
      "<class 'str'>\n"
     ]
    }
   ],
   "source": [
    "x = input(\"Bir sayı gir: \")\n",
    "print(type(x))"
   ]
  },
  {
   "cell_type": "code",
   "execution_count": 5,
   "metadata": {},
   "outputs": [
    {
     "name": "stdout",
     "output_type": "stream",
     "text": [
      "Bir sayı gir: \n",
      "Girdiğiniz sayı:  \n"
     ]
    }
   ],
   "source": [
    "x = input(\"Bir sayı gir: \")\n",
    "print(\"Girdiğiniz sayı: \", x*3)"
   ]
  },
  {
   "cell_type": "code",
   "execution_count": 6,
   "metadata": {},
   "outputs": [
    {
     "name": "stdout",
     "output_type": "stream",
     "text": [
      "Bir sayı gir: 5\n",
      "Girdiğiniz sayı:  555\n"
     ]
    }
   ],
   "source": [
    "x = input(\"Bir sayı gir: \")\n",
    "print(\"Girdiğiniz sayı: \", x*3)"
   ]
  },
  {
   "cell_type": "code",
   "execution_count": 7,
   "metadata": {},
   "outputs": [
    {
     "name": "stdout",
     "output_type": "stream",
     "text": [
      "Bir sayı gir: 5\n",
      "Girdiğiniz sayı:  5\n"
     ]
    }
   ],
   "source": [
    "x = int(input(\"Bir sayı gir: \"))\n",
    "print(\"Girdiğiniz sayı: \", x)"
   ]
  },
  {
   "cell_type": "code",
   "execution_count": 8,
   "metadata": {},
   "outputs": [
    {
     "name": "stdout",
     "output_type": "stream",
     "text": [
      "Bir sayı gir: 10\n",
      "Girdiğiniz sayı:  50\n"
     ]
    }
   ],
   "source": [
    "x = int(input(\"Bir sayı gir: \"))\n",
    "print(\"Girdiğiniz sayı: \", x*5)"
   ]
  },
  {
   "cell_type": "code",
   "execution_count": 9,
   "metadata": {},
   "outputs": [
    {
     "name": "stdout",
     "output_type": "stream",
     "text": [
      "Adınız: Ali\n",
      "Soyadınız: Metin\n",
      "Yaşınız: 27\n",
      "Adınız:  Ali\n",
      "Soyadınız:  Metin\n",
      "Yaşınız:  27\n"
     ]
    }
   ],
   "source": [
    "Ad = input(\"Adınız: \")\n",
    "Soyad = input(\"Soyadınız: \")\n",
    "Yas = input(\"Yaşınız: \")\n",
    "print(\"Adınız: \", Ad)\n",
    "print(\"Soyadınız: \", Soyad)\n",
    "print(\"Yaşınız: \", Yas)"
   ]
  },
  {
   "cell_type": "code",
   "execution_count": null,
   "metadata": {},
   "outputs": [],
   "source": []
  }
 ],
 "metadata": {
  "kernelspec": {
   "display_name": "Python 3",
   "language": "python",
   "name": "python3"
  },
  "language_info": {
   "codemirror_mode": {
    "name": "ipython",
    "version": 3
   },
   "file_extension": ".py",
   "mimetype": "text/x-python",
   "name": "python",
   "nbconvert_exporter": "python",
   "pygments_lexer": "ipython3",
   "version": "3.7.5"
  }
 },
 "nbformat": 4,
 "nbformat_minor": 2
}
